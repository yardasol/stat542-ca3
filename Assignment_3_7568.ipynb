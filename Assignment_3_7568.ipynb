{
 "cells": [
  {
   "cell_type": "code",
   "execution_count": 1,
   "id": "e89d323b",
   "metadata": {},
   "outputs": [],
   "source": [
    "from loess import loess_1d\n",
    "from scipy import interpolate\n",
    "import numpy as np\n",
    "import pandas as pd\n",
    "import matplotlib.pyplot as plt"
   ]
  },
  {
   "cell_type": "code",
   "execution_count": 2,
   "id": "b217ce5b",
   "metadata": {},
   "outputs": [],
   "source": [
    "df = pd.read_csv('Coding3_Data.csv')"
   ]
  },
  {
   "cell_type": "code",
   "execution_count": 21,
   "id": "43657405",
   "metadata": {},
   "outputs": [],
   "source": [
    "def smoother_diags(x, span):\n",
    "    n = len(x)\n",
    "    lev = np.zeros(n)\n",
    "    for i in range(0, n):\n",
    "        y = np.zeros(n)\n",
    "        y[i] = 1\n",
    "        loess_mod = loess.loess(x, y, span=span)\n",
    "        loess_mod.fit()\n",
    "        yi = loess_mod.outputs.fitted_values\n",
    "        #_, yi, _ = loess_1d.loess_1d(x, y, degree=2, frac=span)\n",
    "        #yi = interpolate.UnivariateSpline(x, y, s=span)(x)\n",
    "        lev[i] = yi[i]\n",
    "    return lev"
   ]
  },
  {
   "cell_type": "code",
   "execution_count": 22,
   "id": "fee8ed18",
   "metadata": {},
   "outputs": [],
   "source": [
    "def onestep_CV(x, y, span):\n",
    "    n = len(x)\n",
    "    xhat, yhat, weights = loess_1d.loess_1d(x, y, degree=2, frac=span)\n",
    "    r = y - yhat\n",
    "    Slam_diags = smoother_diags(x, span)\n",
    "    cv = (r / (1 - Slam_diags))**2\n",
    "    #for i, s in enumerate(Slam_diags):\n",
    "    #    cv.append((r[i] / (1 - s))**2)\n",
    "    \n",
    "    d = 1 - (np.sum(Slam_diags) / n)\n",
    "    gcv = (r / d)**2\n",
    "    \n",
    "    return (np.mean(cv), np.mean(gcv))\n",
    "    \n",
    "   "
   ]
  },
  {
   "cell_type": "code",
   "execution_count": 23,
   "id": "e9c0ca9a",
   "metadata": {},
   "outputs": [],
   "source": [
    " def loocv(x, y, spans):\n",
    "    m = len(spans)\n",
    "    cv = np.zeros(m)\n",
    "    gcv = np.zeros(m)\n",
    "    \n",
    "    for i in range(0, m):\n",
    "        cv[i], gcv[i] = onestep_CV(x, y, spans[i])\n",
    "        #cv[i] = tmp[0]\n",
    "        #gcv[i] = tmp[1]\n",
    "    return (cv, gcv)\n",
    "    \n",
    "    "
   ]
  },
  {
   "cell_type": "code",
   "execution_count": 24,
   "id": "24ce2b44",
   "metadata": {},
   "outputs": [],
   "source": [
    "spans = np.linspace(0.20, 0.90, 15)\n",
    "cv, gcv = loocv(df['x'].values, df['y'].values, spans)"
   ]
  },
  {
   "cell_type": "code",
   "execution_count": 25,
   "id": "172fe4e2",
   "metadata": {},
   "outputs": [
    {
     "name": "stdout",
     "output_type": "stream",
     "text": [
      "CV: [9.89299689 7.06503829 1.47837861 1.18586453 1.02827028 1.07504775\n",
      " 0.99612172 1.18139796 1.15985075 1.22678074 1.17415952 1.31905324\n",
      " 1.33111411 1.67517006 1.74127863]\n",
      "Optimum span for CV: 0.5\n",
      "GCV: [1.89102353 1.84714983 1.24626756 1.18377115 1.01997258 1.04276341\n",
      " 0.98137302 1.15975456 1.14224452 1.18376484 1.13931296 1.275974\n",
      " 1.28628141 1.60774329 1.6744516 ]\n",
      "Optimum span for GCV: 0.5\n"
     ]
    }
   ],
   "source": [
    "print(f\"CV: {cv}\")\n",
    "best_idx = np.where(cv == np.min(cv))[0][0]\n",
    "print(f\"Optimum span for CV: {spans[best_idx]}\")\n",
    "print(f\"GCV: {gcv}\")\n",
    "best_idx = np.where(gcv == np.min(gcv))[0][0]\n",
    "print(f\"Optimum span for GCV: {spans[best_idx]}\")"
   ]
  },
  {
   "cell_type": "code",
   "execution_count": 30,
   "id": "08b003c4",
   "metadata": {},
   "outputs": [],
   "source": [
    "import skmisc\n",
    "from skmisc import loess"
   ]
  },
  {
   "cell_type": "code",
   "execution_count": 31,
   "id": "1ea42b3e",
   "metadata": {},
   "outputs": [],
   "source": [
    "loess_mod = loess.loess(df['x'].values, df['y'].values, span=0.5)\n",
    "loess_mod.fit()"
   ]
  },
  {
   "cell_type": "code",
   "execution_count": 32,
   "id": "b2f97977",
   "metadata": {},
   "outputs": [],
   "source": [
    "loess_pred = loess_mod.predict(df['x'].values)"
   ]
  },
  {
   "cell_type": "code",
   "execution_count": 3,
   "id": "ab2b53e9",
   "metadata": {},
   "outputs": [],
   "source": [
    "from statsmodels.nonparametric.smoothers_lowess import lowess"
   ]
  },
  {
   "cell_type": "code",
   "execution_count": 6,
   "id": "f9c36719",
   "metadata": {},
   "outputs": [],
   "source": [
    "lw = lowess(df['y'], df['x'], frac=0.5)"
   ]
  },
  {
   "cell_type": "code",
   "execution_count": null,
   "id": "98f795d4",
   "metadata": {},
   "outputs": [],
   "source": []
  },
  {
   "cell_type": "code",
   "execution_count": 7,
   "id": "eecf5724",
   "metadata": {},
   "outputs": [
    {
     "data": {
      "text/plain": [
       "array([[ 0.00949576,  1.22037648],\n",
       "       [ 0.03999592,  0.67250128],\n",
       "       [ 0.04577026,  0.57096942],\n",
       "       [ 0.11370341, -0.61649033],\n",
       "       [ 0.159046  , -1.55429616],\n",
       "       [ 0.18672279, -1.75009139],\n",
       "       [ 0.21879954, -1.73735008],\n",
       "       [ 0.23222591, -1.70795354],\n",
       "       [ 0.23255051, -1.70713354],\n",
       "       [ 0.26682078, -1.59556799],\n",
       "       [ 0.28273358, -1.50201264],\n",
       "       [ 0.28622328, -1.47843982],\n",
       "       [ 0.29231584, -1.42757946],\n",
       "       [ 0.30269337, -1.32981883],\n",
       "       [ 0.31661245, -1.15553819],\n",
       "       [ 0.51425114, -0.01934632],\n",
       "       [ 0.52569755, -0.11992529],\n",
       "       [ 0.54497484, -0.08506521],\n",
       "       [ 0.60927473, -0.88454064],\n",
       "       [ 0.6222994 , -0.95071457],\n",
       "       [ 0.62337944, -0.95707274],\n",
       "       [ 0.64031061, -1.05159118],\n",
       "       [ 0.66608376, -1.17837055],\n",
       "       [ 0.69359129, -1.2887745 ],\n",
       "       [ 0.81059855, -0.71201272],\n",
       "       [ 0.83134505, -0.57351636],\n",
       "       [ 0.83729563, -0.53351985],\n",
       "       [ 0.86091538, -0.37413447],\n",
       "       [ 0.91465817, -0.01050314],\n",
       "       [ 0.92343348,  0.04887179]])"
      ]
     },
     "execution_count": 7,
     "metadata": {},
     "output_type": "execute_result"
    }
   ],
   "source": [
    "lw"
   ]
  },
  {
   "cell_type": "code",
   "execution_count": 11,
   "id": "07e81c45",
   "metadata": {},
   "outputs": [
    {
     "data": {
      "text/plain": [
       "[<matplotlib.lines.Line2D at 0x7faf75590730>]"
      ]
     },
     "execution_count": 11,
     "metadata": {},
     "output_type": "execute_result"
    },
    {
     "data": {
      "image/png": "[encoded data removed]",
      "text/plain": [
       "<Figure size 432x288 with 1 Axes>"
      ]
     },
     "metadata": {
      "needs_background": "light"
     },
     "output_type": "display_data"
    }
   ],
   "source": [
    "plt.scatter(df['x'], df['y'])\n",
    "plt.plot(lw[:,0], lw[:,1])"
   ]
  },
  {
   "cell_type": "code",
   "execution_count": 33,
   "id": "bcfc30b0",
   "metadata": {},
   "outputs": [
    {
     "data": {
      "text/plain": [
       "[<matplotlib.lines.Line2D at 0x7f517f3a3ee0>]"
      ]
     },
     "execution_count": 33,
     "metadata": {},
     "output_type": "execute_result"
    },
    {
     "data": {
      "image/png": "[encoded data removed]",
      "text/plain": [
       "<Figure size 432x288 with 1 Axes>"
      ]
     },
     "metadata": {
      "needs_background": "light"
     },
     "output_type": "display_data"
    }
   ],
   "source": [
    "plt.scatter(df['x'], df['y'])\n",
    "_, ys, _ = loess_1d.loess_1d(df['x'].values, df['y'].values, degree=2, frac=0.5)\n",
    "plt.plot(df['x'], loess_pred.values)"
   ]
  },
  {
   "cell_type": "code",
   "execution_count": 12,
   "id": "09de6e89",
   "metadata": {},
   "outputs": [
    {
     "data": {
      "text/plain": [
       "array([0.46612683, 0.45372495, 0.47998589, 0.44454581, 0.4784674 ,\n",
       "       0.42007714, 0.44881875, 0.47312524, 0.47746372, 0.43688882,\n",
       "       0.43769686, 0.44991839, 0.40521955, 0.47223105, 0.49246587,\n",
       "       0.4548877 , 0.45756098, 0.4356133 , 0.41239732, 0.4885824 ,\n",
       "       0.45118575, 0.38992937, 0.43930521, 0.43968243, 0.423687  ,\n",
       "       0.44605865, 0.47414202, 0.40657462, 0.46938117, 0.46424654])"
      ]
     },
     "execution_count": 12,
     "metadata": {},
     "output_type": "execute_result"
    }
   ],
   "source": [
    "smoother_diags(df['x'].values, 0.5)"
   ]
  },
  {
   "cell_type": "code",
   "execution_count": null,
   "id": "6a6c96fc",
   "metadata": {},
   "outputs": [],
   "source": []
  }
 ],
 "metadata": {
  "kernelspec": {
   "display_name": "Python [conda env:viz] *",
   "language": "python",
   "name": "conda-env-viz-py"
  },
  "language_info": {
   "codemirror_mode": {
    "name": "ipython",
    "version": 3
   },
   "file_extension": ".py",
   "mimetype": "text/x-python",
   "name": "python",
   "nbconvert_exporter": "python",
   "pygments_lexer": "ipython3",
   "version": "3.10.2"
  }
 },
 "nbformat": 4,
 "nbformat_minor": 5
}
