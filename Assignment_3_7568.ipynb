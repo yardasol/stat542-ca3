{
 "cells": [
  {
   "cell_type": "code",
   "execution_count": 1,
   "id": "e89d323b",
   "metadata": {},
   "outputs": [],
   "source": [
    "from loess import loess_1d\n",
    "from scipy import interpolate\n",
    "import numpy as np\n",
    "import pandas as pd\n",
    "import matplotlib.pyplot as plt"
   ]
  },
  {
   "cell_type": "code",
   "execution_count": 2,
   "id": "b217ce5b",
   "metadata": {},
   "outputs": [],
   "source": [
    "df = pd.read_csv('Coding3_Data.csv')"
   ]
  },
  {
   "cell_type": "code",
   "execution_count": 3,
   "id": "43657405",
   "metadata": {},
   "outputs": [],
   "source": [
    "def smoother_diags(x):\n",
    "    n = len(x)\n",
    "    lev = np.zeros(n)\n",
    "    for i in range(0, n):\n",
    "        y = np.zeros(n)\n",
    "        y[i] = 1\n",
    "        #_, yi, _ = loess_1d.loess_1d(x, y, degree=2, frac=span)\n",
    "        yi = interpolate.UnivariateSpline(x, y)(x)\n",
    "        lev[i] = yi[i]\n",
    "    return lev"
   ]
  },
  {
   "cell_type": "code",
   "execution_count": 4,
   "id": "fee8ed18",
   "metadata": {},
   "outputs": [],
   "source": [
    "def onestep_CV(x, y, span):\n",
    "    n = len(x)\n",
    "    xhat, yhat, weights = loess_1d.loess_1d(x, y, degree=2, frac=span)\n",
    "    r = y - yhat\n",
    "    Slam_diags = smoother_diags(x)\n",
    "    cv = []\n",
    "    for i, s in enumerate(Slam_diags):\n",
    "        cv.append((r[i] / (1 - s))**2)\n",
    "    \n",
    "    gcv = []\n",
    "    d = 1 - (np.sum(Slam_diags) / n)\n",
    "    gcv = (r / d)**2\n",
    "    \n",
    "    return (np.mean(cv), np.mean(gcv))\n",
    "    \n",
    "   "
   ]
  },
  {
   "cell_type": "code",
   "execution_count": 5,
   "id": "e9c0ca9a",
   "metadata": {},
   "outputs": [],
   "source": [
    " def loocv(x, y, spans):\n",
    "    m = len(spans)\n",
    "    cv = np.zeros(m)\n",
    "    gcv = np.zeros(m)\n",
    "    \n",
    "    for i in range(0, m):\n",
    "        cv[i], gcv[i] = onestep_CV(x, y, spans[i])\n",
    "        #cv[i] = tmp[0]\n",
    "        #gcv[i] = tmp[1]\n",
    "    return (cv, gcv)\n",
    "    \n",
    "    "
   ]
  },
  {
   "cell_type": "code",
   "execution_count": 6,
   "id": "24ce2b44",
   "metadata": {},
   "outputs": [],
   "source": [
    "spans = np.linspace(0.20, 0.90, 15)\n",
    "cv, gcv = loocv(df['x'].values, df['y'].values, spans)"
   ]
  },
  {
   "cell_type": "code",
   "execution_count": 7,
   "id": "172fe4e2",
   "metadata": {},
   "outputs": [
    {
     "name": "stdout",
     "output_type": "stream",
     "text": [
      "CV: [0.29972775 0.52354415 0.55587562 0.62882667 0.64562709 0.70105277\n",
      " 0.70930172 0.94887086 0.95763468 1.08273338 1.09730116 1.26980524\n",
      " 1.30841672 1.68118603 1.7577268 ]\n",
      "Optimum span for CV: 0.2\n",
      "GCV: [0.31756998 0.55274969 0.5892527  0.66468567 0.67786118 0.74180396\n",
      " 0.75634724 0.97698582 0.98399465 1.0631927  1.06796384 1.22654508\n",
      " 1.25462335 1.59460589 1.67490873]\n",
      "Optimum span for GCV: 0.2\n"
     ]
    }
   ],
   "source": [
    "print(f\"CV: {cv}\")\n",
    "best_idx = np.where(cv == np.min(cv))[0][0]\n",
    "print(f\"Optimum span for CV: {spans[best_idx]}\")\n",
    "print(f\"GCV: {gcv}\")\n",
    "best_idx = np.where(gcv == np.min(gcv))[0][0]\n",
    "print(f\"Optimum span for GCV: {spans[best_idx]}\")"
   ]
  },
  {
   "cell_type": "code",
   "execution_count": 13,
   "id": "bcfc30b0",
   "metadata": {},
   "outputs": [
    {
     "data": {
      "text/plain": [
       "[<matplotlib.lines.Line2D at 0x7f87838ec4f0>]"
      ]
     },
     "execution_count": 13,
     "metadata": {},
     "output_type": "execute_result"
    },
    {
     "data": {
      "image/png": "[encoded data removed]",
      "text/plain": [
       "<Figure size 432x288 with 1 Axes>"
      ]
     },
     "metadata": {
      "needs_background": "light"
     },
     "output_type": "display_data"
    }
   ],
   "source": [
    "plt.scatter(df['x'], df['y'])\n",
    "_, ys, _ = loess_1d.loess_1d(df['x'].values, df['y'].values, degree=2, frac=0.5)\n",
    "plt.plot(df['x'], ys)"
   ]
  },
  {
   "cell_type": "code",
   "execution_count": 14,
   "id": "09de6e89",
   "metadata": {},
   "outputs": [
    {
     "data": {
      "text/plain": [
       "array([0.40348941, 0.25227003, 0.23121305, 0.10175003, 0.08408792,\n",
       "       0.08367289, 0.08637081, 0.08762399, 0.08765247, 0.08974919,\n",
       "       0.08995608, 0.08993216, 0.08983254, 0.08950176, 0.08877351,\n",
       "       0.08786867, 0.08990329, 0.09369114, 0.10652391, 0.10850786,\n",
       "       0.10865517, 0.11056678, 0.11182916, 0.11075769, 0.10219423,\n",
       "       0.11187458, 0.11632892, 0.14396473, 0.29918384, 0.3422742 ])"
      ]
     },
     "execution_count": 14,
     "metadata": {},
     "output_type": "execute_result"
    }
   ],
   "source": [
    "smoother_diags(df['x'].values)"
   ]
  },
  {
   "cell_type": "code",
   "execution_count": null,
   "id": "6a6c96fc",
   "metadata": {},
   "outputs": [],
   "source": []
  }
 ],
 "metadata": {
  "kernelspec": {
   "display_name": "Python [conda env:viz] *",
   "language": "python",
   "name": "conda-env-viz-py"
  },
  "language_info": {
   "codemirror_mode": {
    "name": "ipython",
    "version": 3
   },
   "file_extension": ".py",
   "mimetype": "text/x-python",
   "name": "python",
   "nbconvert_exporter": "python",
   "pygments_lexer": "ipython3",
   "version": "3.10.2"
  }
 },
 "nbformat": 4,
 "nbformat_minor": 5
}
